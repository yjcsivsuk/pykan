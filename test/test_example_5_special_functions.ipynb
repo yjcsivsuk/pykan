{
 "cells": [
  {
   "cell_type": "code",
   "execution_count": 1,
   "metadata": {},
   "outputs": [],
   "source": [
    "import torch\n",
    "from kan import *\n",
    "torch.set_default_dtype(torch.float64)"
   ]
  },
  {
   "cell_type": "code",
   "execution_count": 2,
   "metadata": {},
   "outputs": [],
   "source": [
    "model=KAN(width=[2,5,1],grid=20,seed=0)\n",
    "f = lambda x: torch.exp(torch.special.bessel_j0(20*x[:,[0]]) + x[:,[1]]**2)\n",
    "dataset = create_dataset(f)"
   ]
  },
  {
   "cell_type": "code",
   "execution_count": 3,
   "metadata": {},
   "outputs": [
    {
     "name": "stderr",
     "output_type": "stream",
     "text": [
      "train loss: 1.18e-01 | test loss: 1.16e-01 | reg: 2.81e+01 : 100%|██| 20/20 [00:07<00:00,  2.75it/s]\n"
     ]
    },
    {
     "data": {
      "text/plain": [
       "{'train_loss': [array(0.20321323),\n",
       "  array(0.1689276),\n",
       "  array(0.16530956),\n",
       "  array(0.16136101),\n",
       "  array(0.15958665),\n",
       "  array(0.14904478),\n",
       "  array(0.12595618),\n",
       "  array(0.11530815),\n",
       "  array(0.10469037),\n",
       "  array(0.09580019),\n",
       "  array(0.13629087),\n",
       "  array(0.12700185),\n",
       "  array(0.11649221),\n",
       "  array(0.1133689),\n",
       "  array(0.11224391),\n",
       "  array(0.12772748),\n",
       "  array(0.12327167),\n",
       "  array(0.12228185),\n",
       "  array(0.12045997),\n",
       "  array(0.11805304)],\n",
       " 'test_loss': [array(0.1961602),\n",
       "  array(0.16230618),\n",
       "  array(0.1606022),\n",
       "  array(0.1560491),\n",
       "  array(0.15338079),\n",
       "  array(0.14127914),\n",
       "  array(0.12869169),\n",
       "  array(0.12332128),\n",
       "  array(0.11265847),\n",
       "  array(0.10968116),\n",
       "  array(0.13769844),\n",
       "  array(0.12811424),\n",
       "  array(0.11675649),\n",
       "  array(0.11233904),\n",
       "  array(0.11040691),\n",
       "  array(0.12451149),\n",
       "  array(0.12026643),\n",
       "  array(0.1191737),\n",
       "  array(0.11766171),\n",
       "  array(0.11551428)],\n",
       " 'reg': [array(34.81988661),\n",
       "  array(28.87759712),\n",
       "  array(27.42039374),\n",
       "  array(26.49474836),\n",
       "  array(26.10249058),\n",
       "  array(32.87809442),\n",
       "  array(31.72580633),\n",
       "  array(30.86391769),\n",
       "  array(30.39868201),\n",
       "  array(29.61776559),\n",
       "  array(29.20486114),\n",
       "  array(28.4554182),\n",
       "  array(28.21988395),\n",
       "  array(27.83636414),\n",
       "  array(27.7433472),\n",
       "  array(28.71205822),\n",
       "  array(28.49302965),\n",
       "  array(28.45551838),\n",
       "  array(28.35200225),\n",
       "  array(28.14694323)]}"
      ]
     },
     "execution_count": 3,
     "metadata": {},
     "output_type": "execute_result"
    }
   ],
   "source": [
    "model.train(dataset=dataset,steps=20,lamb=0.01,lamb_entropy=10.)"
   ]
  },
  {
   "cell_type": "code",
   "execution_count": 4,
   "metadata": {},
   "outputs": [
    {
     "data": {
      "image/png": "[encoded data removed]",
      "text/plain": [
       "<Figure size 500x400 with 4 Axes>"
      ]
     },
     "metadata": {},
     "output_type": "display_data"
    }
   ],
   "source": [
    "model = model.prune()\n",
    "model(dataset['train_input'])\n",
    "model.plot()"
   ]
  },
  {
   "cell_type": "code",
   "execution_count": 5,
   "metadata": {},
   "outputs": [
    {
     "name": "stdout",
     "output_type": "stream",
     "text": [
      "function , r2\n",
      "gaussian , 0.6716852909672358\n",
      "1/x^2 , 0.20192939773807117\n",
      "sin , 0.14543473672203597\n",
      "tan , 0.10103895520642878\n",
      "1/x , 0.10046092690046349\n"
     ]
    },
    {
     "data": {
      "text/plain": [
       "('gaussian',\n",
       " (<function kan.utils.<lambda>(x)>, <function kan.utils.<lambda>(x)>),\n",
       " 0.6716852909672358)"
      ]
     },
     "execution_count": 5,
     "metadata": {},
     "output_type": "execute_result"
    }
   ],
   "source": [
    "model.suggest_symbolic(0,0,0)"
   ]
  },
  {
   "cell_type": "code",
   "execution_count": 8,
   "metadata": {},
   "outputs": [
    {
     "data": {
      "text/plain": [
       "dict_keys(['x', 'x^2', 'x^3', 'x^4', '1/x', '1/x^2', '1/x^3', '1/x^4', 'sqrt', '1/sqrt(x)', 'exp', 'log', 'abs', 'sin', 'tan', 'tanh', 'sigmoid', 'sgn', 'arcsin', 'arctan', 'arctanh', '0', 'gaussian', 'cosh', 'J0'])"
      ]
     },
     "execution_count": 8,
     "metadata": {},
     "output_type": "execute_result"
    }
   ],
   "source": [
    "SYMBOLIC_LIB.keys()"
   ]
  },
  {
   "cell_type": "code",
   "execution_count": 7,
   "metadata": {},
   "outputs": [],
   "source": [
    "add_symbolic('J0', torch.special.bessel_j0)"
   ]
  },
  {
   "cell_type": "code",
   "execution_count": 9,
   "metadata": {},
   "outputs": [
    {
     "name": "stdout",
     "output_type": "stream",
     "text": [
      "function , r2\n",
      "gaussian , 0.6716852909672358\n",
      "J0 , 0.2350160769859418\n",
      "1/x^2 , 0.20192939773807117\n",
      "sin , 0.14543473672203597\n",
      "tan , 0.10103895520642878\n"
     ]
    },
    {
     "data": {
      "text/plain": [
       "('gaussian',\n",
       " (<function kan.utils.<lambda>(x)>, <function kan.utils.<lambda>(x)>),\n",
       " 0.6716852909672358)"
      ]
     },
     "execution_count": 9,
     "metadata": {},
     "output_type": "execute_result"
    }
   ],
   "source": [
    "model.suggest_symbolic(0,0,0)"
   ]
  },
  {
   "cell_type": "markdown",
   "metadata": {},
   "source": [
    "在这里，刚刚添加的贝赛尔函数J0出现了，但是r2却不是最高的，是因为取值范围太小。"
   ]
  },
  {
   "cell_type": "code",
   "execution_count": 10,
   "metadata": {},
   "outputs": [
    {
     "name": "stdout",
     "output_type": "stream",
     "text": [
      "function , r2\n",
      "J0 , 0.9860805578479026\n",
      "gaussian , 0.7185500209852408\n",
      "sin , 0.5094847968782872\n",
      "1/x^2 , 0.20192939787707243\n",
      "tan , 0.10148900113882624\n"
     ]
    },
    {
     "data": {
      "text/plain": [
       "('J0',\n",
       " (<function torch._C._special.special_bessel_j0>, J0),\n",
       " 0.9860805578479026)"
      ]
     },
     "execution_count": 10,
     "metadata": {},
     "output_type": "execute_result"
    }
   ],
   "source": [
    "model.suggest_symbolic(0,0,0,a_range=(-40,40))"
   ]
  },
  {
   "cell_type": "code",
   "execution_count": 11,
   "metadata": {},
   "outputs": [
    {
     "name": "stderr",
     "output_type": "stream",
     "text": [
      "train loss: 1.67e-02 | test loss: 1.80e-02 | reg: 2.56e+00 : 100%|██| 20/20 [00:02<00:00,  9.58it/s]\n"
     ]
    },
    {
     "data": {
      "text/plain": [
       "{'train_loss': [array(0.03104805),\n",
       "  array(0.02132414),\n",
       "  array(0.01878495),\n",
       "  array(0.01780281),\n",
       "  array(0.01754198),\n",
       "  array(0.01716229),\n",
       "  array(0.01694062),\n",
       "  array(0.0168531),\n",
       "  array(0.01679216),\n",
       "  array(0.01677411),\n",
       "  array(0.01672057),\n",
       "  array(0.01669446),\n",
       "  array(0.01667584),\n",
       "  array(0.0166708),\n",
       "  array(0.01666585),\n",
       "  array(0.01667669),\n",
       "  array(0.01666944),\n",
       "  array(0.01666595),\n",
       "  array(0.01666485),\n",
       "  array(0.01666346)],\n",
       " 'test_loss': [array(0.03487228),\n",
       "  array(0.02309272),\n",
       "  array(0.02060162),\n",
       "  array(0.01982789),\n",
       "  array(0.01923946),\n",
       "  array(0.01854725),\n",
       "  array(0.01804657),\n",
       "  array(0.01802074),\n",
       "  array(0.01785132),\n",
       "  array(0.01781651),\n",
       "  array(0.01786589),\n",
       "  array(0.01795797),\n",
       "  array(0.01794504),\n",
       "  array(0.01798704),\n",
       "  array(0.01801149),\n",
       "  array(0.01795496),\n",
       "  array(0.01797876),\n",
       "  array(0.01802117),\n",
       "  array(0.01800257),\n",
       "  array(0.01804134)],\n",
       " 'reg': [array(2.58767633),\n",
       "  array(2.57015014),\n",
       "  array(2.55927142),\n",
       "  array(2.55271804),\n",
       "  array(2.54955708),\n",
       "  array(2.58106966),\n",
       "  array(2.58238622),\n",
       "  array(2.58150767),\n",
       "  array(2.58120023),\n",
       "  array(2.58078137),\n",
       "  array(2.58355428),\n",
       "  array(2.58073735),\n",
       "  array(2.57786229),\n",
       "  array(2.5758174),\n",
       "  array(2.57377306),\n",
       "  array(2.5641514),\n",
       "  array(2.56344063),\n",
       "  array(2.56233953),\n",
       "  array(2.56196466),\n",
       "  array(2.56127841)]}"
      ]
     },
     "execution_count": 11,
     "metadata": {},
     "output_type": "execute_result"
    }
   ],
   "source": [
    "model.train(dataset=dataset,steps=20)"
   ]
  },
  {
   "cell_type": "code",
   "execution_count": 12,
   "metadata": {},
   "outputs": [
    {
     "data": {
      "image/png": "[encoded data removed]",
      "text/plain": [
       "<Figure size 500x400 with 4 Axes>"
      ]
     },
     "metadata": {},
     "output_type": "display_data"
    }
   ],
   "source": [
    "model.plot()"
   ]
  },
  {
   "cell_type": "code",
   "execution_count": 13,
   "metadata": {},
   "outputs": [
    {
     "name": "stdout",
     "output_type": "stream",
     "text": [
      "r2 is 0.9985527684777082\n"
     ]
    },
    {
     "data": {
      "text/plain": [
       "tensor(0.9986)"
      ]
     },
     "execution_count": 13,
     "metadata": {},
     "output_type": "execute_result"
    }
   ],
   "source": [
    "model.fix_symbolic(0,0,0,'J0',a_range=(-40,40))"
   ]
  },
  {
   "cell_type": "code",
   "execution_count": 14,
   "metadata": {},
   "outputs": [
    {
     "name": "stdout",
     "output_type": "stream",
     "text": [
      "skipping (0,0,0) since already symbolic\n",
      "fixing (0,1,0) with x^2, r2=0.9999813512109327\n",
      "fixing (1,0,0) with tanh, r2=0.9999669515157107\n"
     ]
    }
   ],
   "source": [
    "model.auto_symbolic()"
   ]
  },
  {
   "cell_type": "code",
   "execution_count": 15,
   "metadata": {},
   "outputs": [
    {
     "data": {
      "image/png": "[encoded data removed]",
      "text/plain": [
       "<Figure size 500x400 with 4 Axes>"
      ]
     },
     "metadata": {},
     "output_type": "display_data"
    }
   ],
   "source": [
    "model.plot()"
   ]
  },
  {
   "cell_type": "code",
   "execution_count": 17,
   "metadata": {},
   "outputs": [
    {
     "name": "stderr",
     "output_type": "stream",
     "text": [
      "train loss: 8.68e-04 | test loss: 9.11e-04 | reg: 2.56e+00 : 100%|██| 20/20 [00:02<00:00,  9.76it/s]\n"
     ]
    },
    {
     "data": {
      "text/plain": [
       "{'train_loss': [array(0.0048723),\n",
       "  array(0.00357767),\n",
       "  array(0.00262222),\n",
       "  array(0.00197705),\n",
       "  array(0.00171378),\n",
       "  array(0.00127158),\n",
       "  array(0.00104848),\n",
       "  array(0.00098607),\n",
       "  array(0.00094502),\n",
       "  array(0.00093813),\n",
       "  array(0.00093093),\n",
       "  array(0.00092652),\n",
       "  array(0.00090894),\n",
       "  array(0.0009085),\n",
       "  array(0.00090646),\n",
       "  array(0.00089571),\n",
       "  array(0.00089303),\n",
       "  array(0.00088448),\n",
       "  array(0.00087991),\n",
       "  array(0.00086794)],\n",
       " 'test_loss': [array(0.0048818),\n",
       "  array(0.00352338),\n",
       "  array(0.00258112),\n",
       "  array(0.00203929),\n",
       "  array(0.00171434),\n",
       "  array(0.00130587),\n",
       "  array(0.00109744),\n",
       "  array(0.00101716),\n",
       "  array(0.00098893),\n",
       "  array(0.00098149),\n",
       "  array(0.00097519),\n",
       "  array(0.00096459),\n",
       "  array(0.00094566),\n",
       "  array(0.00094434),\n",
       "  array(0.0009438),\n",
       "  array(0.00094036),\n",
       "  array(0.00093822),\n",
       "  array(0.00093035),\n",
       "  array(0.00092183),\n",
       "  array(0.00091065)],\n",
       " 'reg': [array(2.55830615),\n",
       "  array(2.558736),\n",
       "  array(2.55951704),\n",
       "  array(2.55969131),\n",
       "  array(2.55995536),\n",
       "  array(2.55970432),\n",
       "  array(2.5598944),\n",
       "  array(2.55989037),\n",
       "  array(2.5599409),\n",
       "  array(2.55994627),\n",
       "  array(2.55973204),\n",
       "  array(2.55977065),\n",
       "  array(2.55975121),\n",
       "  array(2.55975123),\n",
       "  array(2.55974834),\n",
       "  array(2.55972486),\n",
       "  array(2.55973768),\n",
       "  array(2.55980942),\n",
       "  array(2.55983124),\n",
       "  array(2.55986822)]}"
      ]
     },
     "execution_count": 17,
     "metadata": {},
     "output_type": "execute_result"
    }
   ],
   "source": [
    "model.train(dataset=dataset,steps=20)"
   ]
  },
  {
   "cell_type": "code",
   "execution_count": 18,
   "metadata": {},
   "outputs": [
    {
     "data": {
      "image/png": "[encoded data removed]",
      "text/plain": [
       "<Figure size 500x400 with 4 Axes>"
      ]
     },
     "metadata": {},
     "output_type": "display_data"
    }
   ],
   "source": [
    "model.plot()"
   ]
  },
  {
   "cell_type": "code",
   "execution_count": 19,
   "metadata": {},
   "outputs": [
    {
     "name": "stdout",
     "output_type": "stream",
     "text": [
      "function , r2\n",
      "exp , 0.9999997545058875\n",
      "tanh , 0.9999868066579325\n",
      "sigmoid , 0.9999785700474721\n",
      "arctan , 0.9999255451363058\n",
      "gaussian , 0.9998934779816747\n"
     ]
    },
    {
     "data": {
      "text/plain": [
       "('exp',\n",
       " (<function kan.utils.<lambda>(x)>, <function kan.utils.<lambda>(x)>),\n",
       " 0.9999997545058875)"
      ]
     },
     "execution_count": 19,
     "metadata": {},
     "output_type": "execute_result"
    }
   ],
   "source": [
    "model.suggest_symbolic(1,0,0)"
   ]
  },
  {
   "cell_type": "code",
   "execution_count": 20,
   "metadata": {},
   "outputs": [
    {
     "name": "stdout",
     "output_type": "stream",
     "text": [
      "r2 is 0.9999997545058875\n"
     ]
    },
    {
     "data": {
      "text/plain": [
       "tensor(1.0000, grad_fn=<SelectBackward0>)"
      ]
     },
     "execution_count": 20,
     "metadata": {},
     "output_type": "execute_result"
    }
   ],
   "source": [
    "model.fix_symbolic(1,0,0,'exp')"
   ]
  },
  {
   "cell_type": "code",
   "execution_count": 21,
   "metadata": {},
   "outputs": [
    {
     "name": "stderr",
     "output_type": "stream",
     "text": [
      "train loss: 8.11e-04 | test loss: 8.54e-04 | reg: 2.56e+00 : 100%|██| 20/20 [00:00<00:00, 26.79it/s]\n"
     ]
    },
    {
     "data": {
      "text/plain": [
       "{'train_loss': [array(0.00081167),\n",
       "  array(0.00081106),\n",
       "  array(0.00081093),\n",
       "  array(0.00081093),\n",
       "  array(0.00081093),\n",
       "  array(0.00081093),\n",
       "  array(0.00081093),\n",
       "  array(0.00081093),\n",
       "  array(0.00081093),\n",
       "  array(0.00081093),\n",
       "  array(0.00081093),\n",
       "  array(0.00081093),\n",
       "  array(0.00081093),\n",
       "  array(0.00081093),\n",
       "  array(0.00081093),\n",
       "  array(0.00081093),\n",
       "  array(0.00081093),\n",
       "  array(0.00081093),\n",
       "  array(0.00081093),\n",
       "  array(0.00081093)],\n",
       " 'test_loss': [array(0.00085109),\n",
       "  array(0.00085493),\n",
       "  array(0.0008539),\n",
       "  array(0.0008539),\n",
       "  array(0.0008539),\n",
       "  array(0.0008539),\n",
       "  array(0.0008539),\n",
       "  array(0.0008539),\n",
       "  array(0.0008539),\n",
       "  array(0.0008539),\n",
       "  array(0.0008539),\n",
       "  array(0.0008539),\n",
       "  array(0.0008539),\n",
       "  array(0.0008539),\n",
       "  array(0.0008539),\n",
       "  array(0.0008539),\n",
       "  array(0.0008539),\n",
       "  array(0.0008539),\n",
       "  array(0.0008539),\n",
       "  array(0.0008539)],\n",
       " 'reg': [array(2.55977161),\n",
       "  array(2.55978057),\n",
       "  array(2.55979142),\n",
       "  array(2.55979142),\n",
       "  array(2.55979142),\n",
       "  array(2.55980483),\n",
       "  array(2.55980483),\n",
       "  array(2.55980483),\n",
       "  array(2.55980483),\n",
       "  array(2.55980483),\n",
       "  array(2.55980483),\n",
       "  array(2.55980483),\n",
       "  array(2.55980483),\n",
       "  array(2.55980483),\n",
       "  array(2.55980483),\n",
       "  array(2.55980483),\n",
       "  array(2.55980483),\n",
       "  array(2.55980483),\n",
       "  array(2.55980483),\n",
       "  array(2.55980483)]}"
      ]
     },
     "execution_count": 21,
     "metadata": {},
     "output_type": "execute_result"
    }
   ],
   "source": [
    "model.train(dataset=dataset,steps=20)"
   ]
  },
  {
   "cell_type": "code",
   "execution_count": 22,
   "metadata": {},
   "outputs": [
    {
     "data": {
      "text/latex": [
       "$\\displaystyle 1.0 e^{1.0 x_{2}^{2} + 1.0 J_{0}{\\left(20.0 x_{1} \\right)}}$"
      ],
      "text/plain": [
       "1.0*exp(1.0*x_2**2 + 1.0*J0(20.0*x_1))"
      ]
     },
     "execution_count": 22,
     "metadata": {},
     "output_type": "execute_result"
    }
   ],
   "source": [
    "formula=model.symbolic_formula()[0][0]\n",
    "formula"
   ]
  }
 ],
 "metadata": {
  "kernelspec": {
   "display_name": "pykan",
   "language": "python",
   "name": "python3"
  },
  "language_info": {
   "codemirror_mode": {
    "name": "ipython",
    "version": 3
   },
   "file_extension": ".py",
   "mimetype": "text/x-python",
   "name": "python",
   "nbconvert_exporter": "python",
   "pygments_lexer": "ipython3",
   "version": "3.9.18"
  }
 },
 "nbformat": 4,
 "nbformat_minor": 2
}
