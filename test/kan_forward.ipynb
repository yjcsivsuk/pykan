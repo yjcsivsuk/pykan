{
 "cells": [
  {
   "cell_type": "code",
   "execution_count": 1,
   "metadata": {},
   "outputs": [
    {
     "name": "stdout",
     "output_type": "stream",
     "text": [
      "torch.Size([4704])\n",
      "torch.Size([4704])\n",
      "torch.Size([4704])\n",
      "torch.Size([4704, 3])\n",
      "torch.Size([4704, 1])\n"
     ]
    }
   ],
   "source": [
    "import torch\n",
    "from kan import KAN\n",
    "\n",
    "torch.set_default_dtype(torch.float64)\n",
    "model=KAN(width=[3,3,1])\n",
    "dx=torch.randn(4,6,14,14)\n",
    "dy=torch.randn(4,6,14,14)\n",
    "dxdy=torch.randn(4,6,14,14)\n",
    "X=[]\n",
    "X.append(dx.flatten())\n",
    "X.append(dy.flatten())\n",
    "X.append(dxdy.flatten())\n",
    "for x in X:\n",
    "    print(x.shape)\n",
    "input=torch.stack(X, dim=-1)\n",
    "print(input.shape)\n",
    "output=model(input)\n",
    "print(output.shape)\n",
    "\n"
   ]
  },
  {
   "cell_type": "code",
   "execution_count": 2,
   "metadata": {},
   "outputs": [
    {
     "name": "stdout",
     "output_type": "stream",
     "text": [
      "torch.Size([4704, 1])\n"
     ]
    }
   ],
   "source": [
    "import torch\n",
    "from kan import KAN\n",
    "\n",
    "torch.set_default_dtype(torch.float64)\n",
    "model=KAN(width=[3,3,1])\n",
    "dx=torch.randn(4,6,14,14)\n",
    "dy=torch.randn(4,6,14,14)\n",
    "dxdy=torch.randn(4,6,14,14)\n",
    "X=[]\n",
    "X.append(dx.flatten())\n",
    "X.append(dy.flatten())\n",
    "X.append(dxdy.flatten())\n",
    "input=X\n",
    "output=model(input)\n",
    "print(output.shape)"
   ]
  }
 ],
 "metadata": {
  "kernelspec": {
   "display_name": "pykan",
   "language": "python",
   "name": "python3"
  },
  "language_info": {
   "codemirror_mode": {
    "name": "ipython",
    "version": 3
   },
   "file_extension": ".py",
   "mimetype": "text/x-python",
   "name": "python",
   "nbconvert_exporter": "python",
   "pygments_lexer": "ipython3",
   "version": "3.9.18"
  }
 },
 "nbformat": 4,
 "nbformat_minor": 2
}
