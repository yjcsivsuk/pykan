{
 "cells": [
  {
   "cell_type": "code",
   "execution_count": null,
   "metadata": {},
   "outputs": [],
   "source": [
    "from kan import *\n",
    "import torch\n",
    "import matplotlib.pyplot as plt\n",
    "from torch import autograd\n",
    "from tqdm import tqdm\n",
    "import matplotlib.pyplot as plt\n",
    "from mpl_toolkits.axes_grid1 import make_axes_locatable\n",
    "torch.set_default_dtype(torch.float64)"
   ]
  },
  {
   "cell_type": "code",
   "execution_count": null,
   "metadata": {},
   "outputs": [],
   "source": [
    "dim = 2\n",
    "np_i = 21 # number of interior points (along each dimension)\n",
    "np_b = 21 # number of boundary points (along each dimension)\n",
    "ranges = [-1, 1]"
   ]
  },
  {
   "cell_type": "code",
   "execution_count": null,
   "metadata": {},
   "outputs": [],
   "source": [
    "model = KAN(width=[2,2,1], grid=5, k=3, grid_eps=1.0, noise_scale_base=0.25)"
   ]
  },
  {
   "cell_type": "code",
   "execution_count": null,
   "metadata": {},
   "outputs": [],
   "source": [
    "def batch_jacobian(func, x, create_graph=False):\n",
    "    # x in shape (Batch, Length)\n",
    "    def _func_sum(x):\n",
    "        return func(x).sum(dim=0)\n",
    "    return autograd.functional.jacobian(_func_sum, x, create_graph=create_graph).permute(1,0,2)"
   ]
  },
  {
   "cell_type": "code",
   "execution_count": null,
   "metadata": {},
   "outputs": [],
   "source": [
    "# define solution\n",
    "sol_fun = lambda x: torch.sin(torch.pi*x[:,[0]])*torch.sin(torch.pi*x[:,[1]])\n",
    "source_fun = lambda x: -2*torch.pi**2 * torch.sin(torch.pi*x[:,[0]])*torch.sin(torch.pi*x[:,[1]])"
   ]
  },
  {
   "cell_type": "code",
   "execution_count": null,
   "metadata": {},
   "outputs": [],
   "source": [
    "# interior\n",
    "sampling_mode = 'random' # 'radnom' or 'mesh'\n",
    "\n",
    "x_mesh = torch.linspace(ranges[0],ranges[1],steps=np_i)\n",
    "y_mesh = torch.linspace(ranges[0],ranges[1],steps=np_i)\n",
    "X, Y = torch.meshgrid(x_mesh, y_mesh, indexing=\"ij\")\n",
    "if sampling_mode == 'mesh':\n",
    "    #mesh\n",
    "    x_i = torch.stack([X.reshape(-1,), Y.reshape(-1,)]).permute(1,0)\n",
    "else:\n",
    "    #random\n",
    "    x_i = torch.rand((np_i**2,2))*2-1"
   ]
  },
  {
   "cell_type": "code",
   "execution_count": null,
   "metadata": {},
   "outputs": [],
   "source": [
    "# boundary, 4 sides\n",
    "helper = lambda X, Y: torch.stack([X.reshape(-1,), Y.reshape(-1,)]).permute(1,0)\n",
    "xb1 = helper(X[0], Y[0])\n",
    "xb2 = helper(X[-1], Y[0])\n",
    "xb3 = helper(X[:,0], Y[:,0])\n",
    "xb4 = helper(X[:,0], Y[:,-1])\n",
    "x_b = torch.cat([xb1, xb2, xb3, xb4], dim=0)"
   ]
  },
  {
   "cell_type": "code",
   "execution_count": null,
   "metadata": {},
   "outputs": [],
   "source": [
    "steps = 20\n",
    "alpha = 0.1\n",
    "log = 1\n",
    "\n",
    "def train():\n",
    "    optimizer = LBFGS(model.parameters(), lr=1, history_size=10, line_search_fn=\"strong_wolfe\", tolerance_grad=1e-32, tolerance_change=1e-32, tolerance_ys=1e-32)\n",
    "\n",
    "    pbar = tqdm(range(steps), desc='description')\n",
    "\n",
    "    for _ in pbar:\n",
    "        def closure():\n",
    "            global pde_loss, bc_loss\n",
    "            optimizer.zero_grad()\n",
    "            # interior loss\n",
    "            sol = sol_fun(x_i)\n",
    "            sol_D1_fun = lambda x: batch_jacobian(model, x, create_graph=True)[:,0,:]\n",
    "            sol_D1 = sol_D1_fun(x_i)\n",
    "            sol_D2 = batch_jacobian(sol_D1_fun, x_i, create_graph=True)[:,:,:]\n",
    "            lap = torch.sum(torch.diagonal(sol_D2, dim1=1, dim2=2), dim=1, keepdim=True)\n",
    "            source = source_fun(x_i)\n",
    "            pde_loss = torch.mean((lap - source)**2)\n",
    "\n",
    "            # boundary loss\n",
    "            bc_true = sol_fun(x_b)\n",
    "            bc_pred = model(x_b)\n",
    "            bc_loss = torch.mean((bc_pred-bc_true)**2)\n",
    "\n",
    "            loss = alpha * pde_loss + bc_loss\n",
    "            loss.backward()\n",
    "            return loss\n",
    "\n",
    "        if _ % 5 == 0 and _ < 50:\n",
    "            model.update_grid_from_samples(x_i)\n",
    "\n",
    "        optimizer.step(closure)\n",
    "        sol = sol_fun(x_i)\n",
    "        loss = alpha * pde_loss + bc_loss\n",
    "        l2 = torch.mean((model(x_i) - sol)**2)\n",
    "\n",
    "        if _ % log == 0:\n",
    "            pbar.set_description(\"pde loss: %.2e | bc loss: %.2e | l2: %.2e \" % (pde_loss.cpu().detach().numpy(), bc_loss.cpu().detach().numpy(), l2.detach().numpy()))\n"
   ]
  },
  {
   "cell_type": "code",
   "execution_count": null,
   "metadata": {},
   "outputs": [],
   "source": [
    "train()"
   ]
  },
  {
   "cell_type": "code",
   "execution_count": null,
   "metadata": {},
   "outputs": [],
   "source": [
    "model.plot()"
   ]
  },
  {
   "cell_type": "code",
   "execution_count": null,
   "metadata": {},
   "outputs": [],
   "source": [
    "for i in range(2):\n",
    "    for j in range(2):\n",
    "        model.fix_symbolic(0,i,j,'x')\n",
    "        \n",
    "for i in range(2):\n",
    "    model.fix_symbolic(1,i,0,'sin')"
   ]
  },
  {
   "cell_type": "code",
   "execution_count": null,
   "metadata": {},
   "outputs": [],
   "source": [
    "train()"
   ]
  },
  {
   "cell_type": "code",
   "execution_count": null,
   "metadata": {},
   "outputs": [],
   "source": [
    "formula = model.symbolic_formula(floating_digit=5)[0][0]\n",
    "formula"
   ]
  },
  {
   "cell_type": "code",
   "execution_count": null,
   "metadata": {},
   "outputs": [],
   "source": [
    "def plot_true():\n",
    "        \"\"\" plot the solution on new data \"\"\"\n",
    "\n",
    "        import matplotlib.pyplot as plt\n",
    "        from mpl_toolkits.axes_grid1 import make_axes_locatable\n",
    "\n",
    "        x = torch.linspace(-1, 1, 200)\n",
    "        t = torch.linspace(-1, 1, 200)\n",
    "\n",
    "        # x & t grids:\n",
    "        X, T = torch.meshgrid(x, t, indexing=None)\n",
    "\n",
    "        # x & t columns:\n",
    "        xcol = X.reshape(-1, 1)\n",
    "        tcol = T.reshape(-1, 1)\n",
    "\n",
    "        x_i = torch.stack([xcol.reshape(-1,), tcol.reshape(-1,)]).permute(1,0)\n",
    "\n",
    "        # one large column:\n",
    "        usol = sol_fun(x_i)\n",
    "\n",
    "        # reshape solution:\n",
    "        U = usol.reshape(x.numel(), t.numel())\n",
    "\n",
    "        # transform to numpy:\n",
    "        xnp = x.numpy()\n",
    "        tnp = t.numpy()\n",
    "        Unp = U.detach().numpy()\n",
    "\n",
    "        # plot:\n",
    "        fig = plt.figure(figsize=(9, 4.5))\n",
    "        ax = fig.add_subplot(111)\n",
    "\n",
    "        h = ax.imshow(Unp,\n",
    "                      interpolation='nearest',\n",
    "                      cmap='rainbow',\n",
    "                      extent=[tnp.min(), tnp.max(), xnp.min(), xnp.max()],\n",
    "                      origin='lower', aspect='auto')\n",
    "        divider = make_axes_locatable(ax)\n",
    "        cax = divider.append_axes(\"right\", size=\"5%\", pad=0.10)\n",
    "        cbar = fig.colorbar(h, cax=cax)\n",
    "        cbar.ax.tick_params(labelsize=10)\n",
    "        plt.savefig('./2D_poisson_true.png')\n",
    "        plt.show()\n",
    "\n",
    "plot_true()"
   ]
  },
  {
   "cell_type": "code",
   "execution_count": null,
   "metadata": {},
   "outputs": [],
   "source": [
    "def plot_kan(model):\n",
    "        \"\"\" plot the solution on new data \"\"\"\n",
    "\n",
    "        import matplotlib.pyplot as plt\n",
    "        from mpl_toolkits.axes_grid1 import make_axes_locatable\n",
    "\n",
    "        x = torch.linspace(-1, 1, 200)\n",
    "        t = torch.linspace(-1, 1, 200)\n",
    "\n",
    "        # x & t grids:\n",
    "        X, T = torch.meshgrid(x, t, indexing=None)\n",
    "\n",
    "        # x & t columns:\n",
    "        xcol = X.reshape(-1, 1)\n",
    "        tcol = T.reshape(-1, 1)\n",
    "\n",
    "        x_i = torch.stack([xcol.reshape(-1,), tcol.reshape(-1,)]).permute(1,0)\n",
    "\n",
    "        # one large column:\n",
    "        kan_sol = model(x_i)\n",
    "\n",
    "        # reshape solution:\n",
    "        U = kan_sol.reshape(x.numel(), t.numel())\n",
    "\n",
    "        # transform to numpy:\n",
    "        xnp = x.numpy()\n",
    "        tnp = t.numpy()\n",
    "        Unp = U.detach().numpy()\n",
    "\n",
    "        # plot:\n",
    "        fig = plt.figure(figsize=(9, 4.5))\n",
    "        ax = fig.add_subplot(111)\n",
    "\n",
    "        h = ax.imshow(Unp,\n",
    "                      interpolation='nearest',\n",
    "                      cmap='rainbow',\n",
    "                      extent=[tnp.min(), tnp.max(), xnp.min(), xnp.max()],\n",
    "                      origin='lower', aspect='auto')\n",
    "        divider = make_axes_locatable(ax)\n",
    "        cax = divider.append_axes(\"right\", size=\"5%\", pad=0.10)\n",
    "        cbar = fig.colorbar(h, cax=cax)\n",
    "        cbar.ax.tick_params(labelsize=10)\n",
    "        plt.savefig('./2D_poisson_kan.png')\n",
    "        plt.show()\n",
    "\n",
    "plot_kan(model)"
   ]
  }
 ],
 "metadata": {
  "kernelspec": {
   "display_name": "pykan",
   "language": "python",
   "name": "python3"
  },
  "language_info": {
   "codemirror_mode": {
    "name": "ipython",
    "version": 3
   },
   "file_extension": ".py",
   "mimetype": "text/x-python",
   "name": "python",
   "nbconvert_exporter": "python",
   "pygments_lexer": "ipython3",
   "version": "3.9.18"
  }
 },
 "nbformat": 4,
 "nbformat_minor": 2
}
